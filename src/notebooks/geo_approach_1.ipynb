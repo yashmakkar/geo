{
 "cells": [
  {
   "cell_type": "markdown",
   "id": "6adc590e",
   "metadata": {},
   "source": [
    "### Setting up session"
   ]
  },
  {
   "cell_type": "code",
   "execution_count": 1,
   "id": "6fef03a0",
   "metadata": {},
   "outputs": [
    {
     "name": "stdout",
     "output_type": "stream",
     "text": [
      "/Users/yashmakkar/Documents/Project/GEO/src/notebooks\n",
      "['/Library/Frameworks/Python.framework/Versions/3.12/lib/python312.zip', '/Library/Frameworks/Python.framework/Versions/3.12/lib/python3.12', '/Library/Frameworks/Python.framework/Versions/3.12/lib/python3.12/lib-dynload', '', '/Users/yashmakkar/Documents/Project/GEO/.venv/lib/python3.12/site-packages', '/Users/yashmakkar/Documents/Project/GEO']\n"
     ]
    }
   ],
   "source": [
    "import os\n",
    "print(os.getcwd())\n",
    "\n",
    "import sys\n",
    "path = \"/\".join(os.getcwd().split(\"/\")[:-2])\n",
    "if path not in sys.path:\n",
    "    sys.path.append(path)\n",
    "print(sys.path)"
   ]
  },
  {
   "cell_type": "code",
   "execution_count": 13,
   "id": "671dd7a9",
   "metadata": {},
   "outputs": [],
   "source": [
    "from langchain.chat_models import init_chat_model\n",
    "from src.utils.config import config\n",
    "import requests\n",
    "from bs4 import BeautifulSoup"
   ]
  },
  {
   "cell_type": "markdown",
   "id": "6db1aa0a",
   "metadata": {},
   "source": [
    "### Initiating Langchain Models"
   ]
  },
  {
   "cell_type": "code",
   "execution_count": 6,
   "id": "58cc4b1c",
   "metadata": {},
   "outputs": [],
   "source": [
    "openai_llm = init_chat_model(model=\"openai:gpt-4o-mini\", api_key=config.openai_api_key)\n",
    "google_llm = init_chat_model(\"gemini-2.5-flash-preview-05-20\", temperature = 0, model_provider=\"google_genai\", api_key=config.google_api_key)"
   ]
  },
  {
   "cell_type": "markdown",
   "id": "d07daa05",
   "metadata": {},
   "source": [
    "### Scraping the target web page"
   ]
  },
  {
   "cell_type": "code",
   "execution_count": 9,
   "id": "3aa7fdb5",
   "metadata": {},
   "outputs": [],
   "source": [
    "url = \"https://www.xtandi.com\"\n",
    "headers = {\n",
    "    \"User-Agent\": \"Mozilla/5.0 (Macintosh; Intel Mac OS X 10_15_7) AppleWebKit/605.1.15 (KHTML, like Gecko) Version/18.6 Safari/605.1.15\",\n",
    "}\n",
    "\n",
    "response = requests.get(url=url, headers=headers)"
   ]
  },
  {
   "cell_type": "code",
   "execution_count": 14,
   "id": "b203f93a",
   "metadata": {},
   "outputs": [],
   "source": [
    "page_content = BeautifulSoup(response.content, \"html.parser\")\n"
   ]
  },
  {
   "cell_type": "code",
   "execution_count": 21,
   "id": "a1821ea2",
   "metadata": {},
   "outputs": [],
   "source": [
    "page_text = []\n",
    "for line in page_content.text.split(\"\\n\"):\n",
    "    if len(line) > 0:\n",
    "        page_text.append(line)\n",
    "\n",
    "page_text = \"\\n\".join(page_text)"
   ]
  },
  {
   "cell_type": "markdown",
   "id": "b90bd71b",
   "metadata": {},
   "source": [
    "### Generating search queries"
   ]
  },
  {
   "cell_type": "code",
   "execution_count": 27,
   "id": "76d53c37",
   "metadata": {},
   "outputs": [],
   "source": [
    "query_generation_prompt = f\"\"\"Given the following website content, generate a diverse set of user queries that humans might type into a search engine to find information from this site. Your queries should include:\n",
    "\n",
    "- Simple, straightforward questions (e.g., factual lookups, one-step queries)\n",
    "- Complex, multi-part or exploratory questions that require deeper reasoning or synthesis\n",
    "- Ensure that the queries are phrased naturally, just as a typical human user would search online.\n",
    "\n",
    "Output a list of search queries relevant to the content above, clearly showing both normal and complex examples.\"\"\"\n",
    "\n",
    "query_gen_input = [\n",
    "    {\n",
    "        \"role\": \"system\",\n",
    "        \"content\": query_generation_prompt\n",
    "    },\n",
    "    {\n",
    "        \"role\": \"user\",\n",
    "        \"content\": page_text\n",
    "    }\n",
    "]"
   ]
  },
  {
   "cell_type": "code",
   "execution_count": 28,
   "id": "d168defd",
   "metadata": {},
   "outputs": [
    {
     "data": {
      "text/plain": [
       "[{'role': 'system',\n",
       "  'content': 'Given the following website content, generate a diverse set of user queries that humans might type into a search engine to find information from this site. Your queries should include:\\n\\n- Simple, straightforward questions (e.g., factual lookups, one-step queries)\\n- Complex, multi-part or exploratory questions that require deeper reasoning or synthesis\\n- Ensure that the queries are phrased naturally, just as a typical human user would search online.\\n\\nOutput a list of search queries relevant to the content above, clearly showing both normal and complex examples.'},\n",
       " {'role': 'user',\n",
       "  'content': 'XTANDI® (enzalutamide) | Advanced Prostate Cancer Treatment\\nYou are now leaving XTANDI.com\\nPlease verify that you are a U.S. Healthcare Professional.\\nThis information is intended for U.S. Healthcare Professionals only.\\nAre you a U.S. Healthcare Professional?\\nNo\\nYes\\nYou are now leaving XTANDI.com\\nThe website you are about to visit is not owned or controlled by Astellas or Pfizer. Astellas and Pfizer are not responsible for the information or services on this site.\\nCancel\\nContinue\\nPrescribing Information\\nPatient Information\\nXTANDI (enzalutamide) is a prescription medicine used to treat men with prostate cancer that:\\nno longer responds to a hormone therapy or surgical treatment to lower testosterone OR\\nhas spread to other parts of the body and responds to a hormone therapy or surgical treatment to lower testosterone OR\\nhas not spread to other parts of the body and responds to a hormone therapy or surgical treatment to lower testosterone, and who are at high risk of cancer spreading to other parts of the body\\nIt is not known if XTANDI is safe and effective in females or children.\\nFor Access Support call 1-855-898-2634\\nAbout XTANDI\\nIcon: Clinical results\\nClinical results\\nIcon: Side Effects\\nPossible side effects\\nHow XTANDI works\\nDifferent types of prostate cancer\\nWhen to ask your doctor about XTANDI\\nFor Access Support call 1-855-898-2634\\nStarting XTANDI\\nIcon: Getting XTANDI\\nGetting XTANDI\\nIcon: Taking XTANDI\\nTaking XTANDI\\nFor Access Support call 1-855-898-2634\\nSavings & Support\\nPatient Stories & Resources\\nIcon: Patient Stories\\nReal patient stories\\nIcon: Resources\\nResource hub\\nDoctor discussion guide\\nClinical glossary\\nFAQs\\nTips for staying on track\\nSign up for support\\nDownloadable resources\\nFor Access Support call 1-855-898-2634\\n\\r\\n                Important Safety Information\\r\\n            \\n\\r\\n                Prescribing Information\\r\\n            \\n\\r\\n\\r\\n                                Full Prescribing Information (English)\\r\\n                            \\n\\r\\n\\r\\n                                Full Prescribing Information (En Español)\\r\\n                            \\nPatient Information\\n\\r\\n                Indications\\r\\n            \\nFor Healthcare Professionals\\n#1 prescribed androgen receptor inhibitor (ARI)*\\nSee clinical results\\n*A class of prostate cancer drugs that decreases how often androgens like testosterone connect with an androgen receptor.\\nSource: IQVIA market data of TRx volume for CRPC, mCSPC, and nmCSPC (with high risk of cancer spreading) for all branded prostate cancer medications, Jan-Nov 2024\\nTHIS INFORMATION DOES NOT IMPLY SAFETY OR EFFICACY OF ANY PRODUCT. NO COMPARISONS SHOULD BE MADE.\\nSavings & support\\nFind out more information about financial support options that may help eligible patients.\\nSubject to eligibility. Void where prohibited by law.\\nLearn more\\nReal patient stories\\nGain perspective into the lives of men living with advanced prostate cancer and taking XTANDI.\\nConfronting Returning Prostate Cancer\\nWatch story\\nThe Power of Support\\nWatch story\\nJourney to Access\\nWatch story\\nWatch their stories\\nShare your story\\nYou have the chance to make a difference and inspire others. Sharing your XTANDI story can have a positive impact on men living with advanced prostate cancer. To learn more about joining our Ambassador network, give us a call or email today.\\nCall us at 844-482-6810\\nEmail us at amalia@mypatientstory.com\\nSelect Safety Information\\nXTANDI may cause serious side effects including seizure.\\r\\n            If you take XTANDI, you may be at risk of having a seizure.\\r\\n            Avoid activities where a sudden loss of consciousness could seriously harm you or someone else.\\r\\n            Tell your doctor right away if you lose consciousness or have a seizure.\\r\\n            Learn more\\nSign up for support emails and resources\\nWe’re here for you with tools, tips, information, and support.\\nSign up\\nFor more information on Financial Support, please call 1-855-898-2634\\nCall now\\nImportant Safety Information & Use\\nFind out more\\nCollapse\\nWhat should I tell my doctor before taking XTANDI?\\nTell your doctor about all your medical conditions, including if you:\\nHave a history of seizures, brain injury, stroke, or brain tumors.\\nHave a history of heart disease, have high blood pressure, or have abnormal amounts of fat or cholesterol in your blood (dyslipidemia).\\nAre pregnant or plan to become pregnant. XTANDI can cause harm to your unborn baby and loss of pregnancy (miscarriage).\\nHave a partner who is pregnant or may become pregnant.\\r\\n                    \\nMales who have female partners who are able to become pregnant should use effective birth control (contraception) during treatment with XTANDI and for 3 months after the last dose.\\nMales must use a condom during sex with a pregnant female.\\nAre breastfeeding or plan to breastfeed. It is not known if XTANDI passes into your breast milk.\\nTake other medicines. XTANDI may affect the way other medicines work, and other medicines may affect how XTANDI works. These include prescription and over-the-counter medicines, vitamins, and herbal supplements. Do not start or stop any medicine without talking to your doctor.\\nHow should I take XTANDI?\\nTake XTANDI exactly as your doctor tells you. Take your prescribed dose once a day, at the same time each day. XTANDI can be taken with or without food. Swallow XTANDI capsules or tablets whole with enough water to make sure that you can swallow all of the medicine successfully. Do not chew, dissolve, or open the capsules. Do not cut, crush or chew the tablets. Your doctor may change your dose if needed. Your doctor may also change your pill size or stop treatment if you have swallowing problems.\\nDo not change or stop taking your prescribed dose of XTANDI without talking with your doctor first.\\nIf you are receiving gonadotropin-releasing hormone (GnRH) therapy, you should continue with this treatment while taking XTANDI unless you have had surgery to lower the amount of testosterone in your body (surgical castration).\\nIf you miss a dose of XTANDI: Take your prescribed dose as soon as you remember that day. If you miss your daily dose, take your prescribed dose at your regular time the next day. Do not take more than your prescribed dose of XTANDI each day.\\nIf you take too much XTANDI: Call your doctor or go to the nearest emergency room right away. You may have an increased risk of seizure if you take too much XTANDI.\\nWhat are the possible side effects of XTANDI?\\nXTANDI may cause serious side effects including:\\nSeizure. If you take XTANDI, you may be at risk of having a seizure. Avoid activities where a sudden loss of consciousness could seriously harm you or someone else. Tell your doctor right away if you lose consciousness or have a seizure.\\nPosterior Reversible Encephalopathy Syndrome (PRES). If you take XTANDI you may be at risk of developing a condition involving the brain called PRES. Tell your doctor right away if you have a seizure or quickly worsening symptoms such as headache, decreased alertness, confusion, reduced eyesight, blurred vision or other visual problems. Your doctor will do a test to check for PRES.\\nAllergic Reactions. Allergic reactions have happened in people who take XTANDI. Stop taking XTANDI and get medical help right away if you develop swelling of the face, tongue, lip or throat.\\nHeart Disease. Blockage of the arteries in the heart (ischemic heart disease) that can lead to death has happened in some people during treatment with XTANDI. Your doctor will monitor you for signs and symptoms of heart problems during your treatment. Call your doctor or go to the emergency room right away if you get chest pain or discomfort at rest or with activity or shortness of breath during your treatment with XTANDI.\\nFalls and Bone Fractures. XTANDI treatment may increase your risk for falls and bone fractures. Falls were not caused by loss of consciousness or seizures. Your doctor will monitor your risks for falls and bone fractures during treatment with XTANDI.\\nSwallowing Problems or Choking. Severe swallowing problems or choking, including life-threatening problems or death can happen in people during treatment with XTANDI, because of the size of the XTANDI capsules and tablets. Swallow each XTANDI capsule or tablet whole with enough water to make sure that you can swallow all of the medicine successfully.\\nYour doctor will stop treatment with XTANDI if you have serious side effects.\\nThe most common side effects of XTANDI include:\\nMuscle and joint pain\\nFeeling more tired than usual\\nHot flashes\\nConstipation\\nDecreased appetite\\nDiarrhea\\nHigh blood pressure\\nBleeding problems\\nFalls\\nBone fractures\\nHeadache\\nXTANDI may cause fertility problems in males, which may affect the ability to father children. Talk to your doctor if you have concerns about fertility.\\nThese are not all the possible side effects of XTANDI. For more information, talk to your doctor or pharmacist.\\nCall your doctor for medical advice about side effects. You may report side effects to the FDA at 1-800-FDA-1088 or www.fda.gov/medwatch.\\nFor further information, please talk to your doctor and click here for Patient Information and Full Prescribing Information for XTANDI.\\nWhat is XTANDI?\\nXTANDI is a prescription medicine used to treat men with prostate cancer that:\\nno longer responds to a hormone therapy or surgical treatment to lower testosteroneOR\\nhas spread to other parts of the body and responds to a hormone therapy or surgical treatment to lower testosteroneOR\\nhas not spread to other parts of the body and responds to a hormone therapy or surgical treatment to lower testosterone, and who are at high risk of cancer spreading to other parts of the body.\\nIt is not known if XTANDI is safe and effective in females or children.\\nIcon: Doctor Discussion Guide\\nDoctor discussion guide\\nA helpful guide for having a productive conversation with your doctor.\\nIcon: Sign up for support emails and resources\\nSign up for support\\nEducational materials delivered right to your inbox.\\nIcon: Clinical results\\nClinical results\\nLearn more about how XTANDI treats 4 types of advanced prostate cancer.\\nIcon: Financial support\\nFinancial support\\nSee if you’re eligible for financial assistance.\\nThis site is intended for U.S. residents onlyFor information about Access Support call 1-855-898-2634\\nCall your doctor for medical advice about side effects. You may report side effects to the FDA at 1-800-FDA-1088 or www.fda.gov/medwatch \\nAll trademarks are the property of their respective owners.\\n© 2025 Astellas Pharma US, Inc. and Pfizer Inc. All Rights Reserved.\\nMAT-US-XTD-2024-01762 02/25, MAT-US-XTD-2025-00190 05/25\\nLegal Notice\\nPrivacy Statement\\nPrivacy Policy\\nContact Us\\nSitemap'}]"
      ]
     },
     "execution_count": 28,
     "metadata": {},
     "output_type": "execute_result"
    }
   ],
   "source": [
    "query_gen_input"
   ]
  },
  {
   "cell_type": "code",
   "execution_count": 30,
   "id": "2d21ef56",
   "metadata": {},
   "outputs": [],
   "source": [
    "queries = openai_llm.invoke(query_gen_input)"
   ]
  },
  {
   "cell_type": "code",
   "execution_count": 37,
   "id": "44233bc5",
   "metadata": {},
   "outputs": [
    {
     "data": {
      "text/plain": [
       "AIMessage(content='1. What is XTANDI used for?\\n2. How does XTANDI work in treating prostate cancer?\\n3. What are the possible side effects of XTANDI?\\n4. Can women take XTANDI?\\n5. What should I tell my doctor before starting XTANDI?\\n6. How do I take XTANDI?\\n7. Where can I find the prescribing information for XTANDI?\\n8. What should I do if I miss a dose of XTANDI?\\n9. Are there any financial support options available for patients taking XTANDI?\\n10. How can I sign up for support emails from XTANDI?\\n11. What types of prostate cancer can be treated with XTANDI?\\n12. How commonly is XTANDI prescribed compared to other prostate cancer treatments?\\n13. What resources are available for patients taking XTANDI?\\n14. Are there any restrictions on who can receive information about XTANDI?\\n15. What are the risks of seizures while taking XTANDI?\\n16. If I have a history of heart disease, is it safe to take XTANDI?\\n17. How do the side effects of XTANDI compare to those of other prostate cancer medications?\\n18. What should I do if I experience severe side effects while taking XTANDI?\\n19. How can I share my patient story related to XTANDI for the Ambassador network?\\n20. Can I take XTANDI with other medications, and what should I be cautious about?\\n21. Are there any dietary restrictions while taking XTANDI, especially concerning testosterone therapy?\\n22. What is the role of the healthcare professional in managing my treatment with XTANDI?\\n23. In what situations should I contact my doctor while on XTANDI?\\n24. How effective is XTANDI for men whose prostate cancer has spread to other organs?\\n25. What types of clinical results are available for XTANDI?', additional_kwargs={'refusal': None}, response_metadata={'token_usage': {'completion_tokens': 387, 'prompt_tokens': 2403, 'total_tokens': 2790, 'completion_tokens_details': {'accepted_prediction_tokens': 0, 'audio_tokens': 0, 'reasoning_tokens': 0, 'rejected_prediction_tokens': 0}, 'prompt_tokens_details': {'audio_tokens': 0, 'cached_tokens': 0}}, 'model_name': 'gpt-4o-mini-2024-07-18', 'system_fingerprint': 'fp_560af6e559', 'id': 'chatcmpl-CFhgOcAAlxeiVDleMmYInhI1klBmo', 'service_tier': 'default', 'finish_reason': 'stop', 'logprobs': None}, id='run--d867110d-823b-4c26-b2a3-a9fc5116b401-0', usage_metadata={'input_tokens': 2403, 'output_tokens': 387, 'total_tokens': 2790, 'input_token_details': {'audio': 0, 'cache_read': 0}, 'output_token_details': {'audio': 0, 'reasoning': 0}})"
      ]
     },
     "execution_count": 37,
     "metadata": {},
     "output_type": "execute_result"
    }
   ],
   "source": [
    "queries"
   ]
  },
  {
   "cell_type": "code",
   "execution_count": 38,
   "id": "7b45504c",
   "metadata": {},
   "outputs": [
    {
     "data": {
      "text/plain": [
       "['What is XTANDI used for?',\n",
       " 'How does XTANDI work in treating prostate cancer?',\n",
       " 'What are the possible side effects of XTANDI?',\n",
       " 'Can women take XTANDI?',\n",
       " 'What should I tell my doctor before starting XTANDI?',\n",
       " 'How do I take XTANDI?',\n",
       " 'Where can I find the prescribing information for XTANDI?',\n",
       " 'What should I do if I miss a dose of XTANDI?',\n",
       " 'Are there any financial support options available for patients taking XTANDI?',\n",
       " 'How can I sign up for support emails from XTANDI?',\n",
       " 'What types of prostate cancer can be treated with XTANDI?',\n",
       " 'How commonly is XTANDI prescribed compared to other prostate cancer treatments?',\n",
       " 'What resources are available for patients taking XTANDI?',\n",
       " 'Are there any restrictions on who can receive information about XTANDI?',\n",
       " 'What are the risks of seizures while taking XTANDI?',\n",
       " 'If I have a history of heart disease, is it safe to take XTANDI?',\n",
       " 'How do the side effects of XTANDI compare to those of other prostate cancer medications?',\n",
       " 'What should I do if I experience severe side effects while taking XTANDI?',\n",
       " 'How can I share my patient story related to XTANDI for the Ambassador network?',\n",
       " 'Can I take XTANDI with other medications, and what should I be cautious about?',\n",
       " 'Are there any dietary restrictions while taking XTANDI, especially concerning testosterone therapy?',\n",
       " 'What is the role of the healthcare professional in managing my treatment with XTANDI?',\n",
       " 'In what situations should I contact my doctor while on XTANDI?',\n",
       " 'How effective is XTANDI for men whose prostate cancer has spread to other organs?',\n",
       " 'What types of clinical results are available for XTANDI?']"
      ]
     },
     "execution_count": 38,
     "metadata": {},
     "output_type": "execute_result"
    }
   ],
   "source": [
    "search_queries = queries.content.split(\"\\n\")\n",
    "search_queries = [query.split(\".\")[1].strip() for query in search_queries]           # To remove numerals from AI response.\n",
    "search_queries"
   ]
  },
  {
   "cell_type": "code",
   "execution_count": 39,
   "id": "f70d6ed8",
   "metadata": {},
   "outputs": [
    {
     "data": {
      "text/plain": [
       "'What is XTANDI used for?'"
      ]
     },
     "execution_count": 39,
     "metadata": {},
     "output_type": "execute_result"
    }
   ],
   "source": [
    "search_queries[0]"
   ]
  },
  {
   "cell_type": "markdown",
   "id": "31c8634f",
   "metadata": {},
   "source": [
    "### Generating Generative Engine Response"
   ]
  },
  {
   "cell_type": "code",
   "execution_count": 45,
   "id": "37ddf0c0",
   "metadata": {},
   "outputs": [
    {
     "data": {
      "text/plain": [
       "[{'role': 'system',\n",
       "  'content': \"\\n        You are ChatGPT, an advanced AI language model with web search capabilities. When a user's question requires recent or factual information, perform a search using the web tool, summarize the findings, and respond conversationally. Always include helpful citations and direct links to sources in your answer. Attribute information clearly, integrating context from both the web and the ongoing chat. Respond naturally and accurately, supporting your statements with retrieved evidence and making references easy to follow.\\n        \"},\n",
       " {'role': 'user', 'content': 'What is XTANDI used for?'}]"
      ]
     },
     "execution_count": 45,
     "metadata": {},
     "output_type": "execute_result"
    }
   ],
   "source": [
    "ge_prompt = [\n",
    "    {\n",
    "        \"role\": \"system\",\n",
    "        \"content\": \"\"\"\n",
    "        You are ChatGPT, an advanced AI language model with web search capabilities. When a user's question requires recent or factual information, perform a search using the web tool, summarize the findings, and respond conversationally. Always include helpful citations and direct links to sources in your answer. Attribute information clearly, integrating context from both the web and the ongoing chat. Respond naturally and accurately, supporting your statements with retrieved evidence and making references easy to follow.\n",
    "        \"\"\"\n",
    "    },\n",
    "    {\n",
    "        \"role\": \"user\",\n",
    "        \"content\": search_queries[0]\n",
    "    }\n",
    "]\n",
    "\n",
    "ge_prompt"
   ]
  },
  {
   "cell_type": "code",
   "execution_count": null,
   "id": "c94f4935",
   "metadata": {},
   "outputs": [
    {
     "name": "stdout",
     "output_type": "stream",
     "text": [
      "XTANDI (enzalutamide) is a medication primarily used to treat various forms of prostate cancer. It functions as an androgen receptor inhibitor, blocking the effects of male hormones like testosterone, which can stimulate the growth of prostate cancer cells. ([xtandi.com](https://www.xtandi.com/how-xtandi-works?utm_source=openai))\n",
      "\n",
      "Specifically, XTANDI is indicated for:\n",
      "\n",
      "- **Metastatic Castration-Sensitive Prostate Cancer (mCSPC):** Prostate cancer that has spread to other parts of the body but still responds to treatments that lower testosterone levels. ([ema.europa.eu](https://www.ema.europa.eu/en/medicines/human/EPAR/xtandi?utm_source=openai))\n",
      "\n",
      "- **Non-Metastatic Castration-Resistant Prostate Cancer (nmCRPC):** Prostate cancer that has not spread to other parts of the body but continues to grow despite treatments that lower testosterone levels. ([ema.europa.eu](https://www.ema.europa.eu/en/medicines/human/EPAR/xtandi?utm_source=openai))\n",
      "\n",
      "- **Metastatic Castration-Resistant Prostate Cancer (mCRPC):** Advanced prostate cancer that has spread to other parts of the body and no longer responds to treatments designed to lower testosterone levels. ([ema.europa.eu](https://www.ema.europa.eu/en/medicines/human/EPAR/xtandi?utm_source=openai))\n",
      "\n",
      "By inhibiting androgen receptors, XTANDI helps slow the growth and spread of prostate cancer cells. ([xtandi.com](https://www.xtandi.com/how-xtandi-works?utm_source=openai))\n",
      "\n",
      "It's important to note that XTANDI is not approved for use in women or children. Additionally, it can cause serious side effects, including seizures and heart-related issues. Patients should discuss potential risks and benefits with their healthcare provider before starting treatment. ([xtandi.com](https://www.xtandi.com/side-effects?utm_source=openai)) \n"
     ]
    }
   ],
   "source": [
    "from openai import OpenAI\n",
    "client = OpenAI()\n",
    "\n",
    "response = client.responses.create(\n",
    "    model=\"gpt-4o-mini\",\n",
    "    tools=[{\"type\": \"web_search\"}],\n",
    "    input=ge_prompt,\n",
    "    tool_choice=\"required\"\n",
    ")\n",
    "\n",
    "print(response.output_text)"
   ]
  },
  {
   "cell_type": "code",
   "execution_count": 60,
   "id": "21e858e9",
   "metadata": {},
   "outputs": [
    {
     "data": {
      "text/plain": [
       "[AnnotationURLCitation(end_index=331, start_index=258, title='How XTANDI® (enzalutamide) Works', type='url_citation', url='https://www.xtandi.com/how-xtandi-works?utm_source=openai'),\n",
       " AnnotationURLCitation(end_index=653, start_index=560, title='Xtandi | European Medicines Agency (EMA)', type='url_citation', url='https://www.ema.europa.eu/en/medicines/human/EPAR/xtandi?utm_source=openai'),\n",
       " AnnotationURLCitation(end_index=952, start_index=859, title='Xtandi | European Medicines Agency (EMA)', type='url_citation', url='https://www.ema.europa.eu/en/medicines/human/EPAR/xtandi?utm_source=openai'),\n",
       " AnnotationURLCitation(end_index=1254, start_index=1161, title='Xtandi | European Medicines Agency (EMA)', type='url_citation', url='https://www.ema.europa.eu/en/medicines/human/EPAR/xtandi?utm_source=openai'),\n",
       " AnnotationURLCitation(end_index=1429, start_index=1356, title='How XTANDI® (enzalutamide) Works', type='url_citation', url='https://www.xtandi.com/how-xtandi-works?utm_source=openai'),\n",
       " AnnotationURLCitation(end_index=1786, start_index=1717, title='Side Effects | XTANDI® (enzalutamide)', type='url_citation', url='https://www.xtandi.com/side-effects?utm_source=openai')]"
      ]
     },
     "execution_count": 60,
     "metadata": {},
     "output_type": "execute_result"
    }
   ],
   "source": [
    "citations = response.output[1].content[0].annotations\n",
    "citations"
   ]
  },
  {
   "cell_type": "markdown",
   "id": "7e86083c",
   "metadata": {},
   "source": [
    "### Comparing Generative Engine Responses\n",
    "1. Response Generated from code\n",
    "2. Response got from chatgpt web app"
   ]
  },
  {
   "cell_type": "code",
   "execution_count": 62,
   "id": "db4d57be",
   "metadata": {},
   "outputs": [],
   "source": [
    "ge_code_reponse = response.output_text"
   ]
  },
  {
   "cell_type": "code",
   "execution_count": 63,
   "id": "985d564e",
   "metadata": {},
   "outputs": [],
   "source": [
    "chatgpt_response = (\n",
    "    \"\"\"\n",
    "    XTANDI is the brand name for **enzalutamide**, a medication used to treat certain types of prostate cancer. ([Drugs.com][1])\n",
    "\n",
    "    Here’s what it’s used for, how it works, and some key points:\n",
    "\n",
    "    ---\n",
    "\n",
    "    ## What it is used for\n",
    "\n",
    "    XTANDI is used in adult men with prostate cancer in situations including:\n",
    "\n",
    "    1. **Castration-resistant prostate cancer (CRPC)**\n",
    "    When the cancer no longer responds to therapies (surgical or hormonal) that lower testosterone. ([Mayo Clinic][2])\n",
    "\n",
    "    2. **Metastatic disease**\n",
    "    When the cancer has spread to other parts of the body, and it’s still responsive to hormone therapy or surgical lowering of testosterone. ([XTANDI][3])\n",
    "\n",
    "    3. **Non-metastatic disease at high risk**\n",
    "    For prostate cancer that hasn’t spread, but the patient is at high risk of it spreading, or there’s a biochemical recurrence (rising PSA after initial treatment) and the cancer is sensitive to hormone therapy. ([Xtandi][4])\n",
    "\n",
    "    4. **Metastatic castration-sensitive prostate cancer (mCSPC)**\n",
    "    In some cases, XTANDI is combined with testosterone-lowering therapy to treat prostate cancer that’s already spread but still responds to hormone suppression. ([European Medicines Agency (EMA)][5])\n",
    "\n",
    "    ---\n",
    "\n",
    "    ## How it works\n",
    "\n",
    "    * XTANDI is an **androgen receptor inhibitor** (also called an anti-androgen). ([XTANDI][3])\n",
    "    * Androgens (like testosterone) can promote the growth of prostate cancer. XTANDI blocks the receptor that androgens bind to, reducing their ability to stimulate cancer cells. ([Cancer Research UK][6])\n",
    "\n",
    "    ---\n",
    "\n",
    "    ## Important considerations\n",
    "\n",
    "    * It’s taken by mouth, usually once a day. ([MedlinePlus][7])\n",
    "    * Patients are typically also undergoing androgen deprivation therapy (ADT) (to lower testosterone), or have already had surgical removal of the testes, depending on their situation. ([Xtandi][4])\n",
    "    * Like many cancer drugs, it has side effects, and not everyone is a candidate. A physician will consider risks vs benefits. ([Xtandi][4])\n",
    "\n",
    "    ---\n",
    "\n",
    "    If you want, I can tell you about the side-effects, how effective it is, or how it’s used in India. Do you want me to pull up that info?\n",
    "\n",
    "    [1]: https://www.drugs.com/xtandi.html?utm_source=chatgpt.com \"Xtandi: Uses, Dosage & Side Effects\"\n",
    "    [2]: https://www.mayoclinic.org/drugs-supplements/enzalutamide-oral-route/description/drg-20075790?utm_source=chatgpt.com \"Enzalutamide (oral route) - Side effects & dosage\"\n",
    "    [3]: https://www.xtandi.com/how-xtandi-works?utm_source=chatgpt.com \"How XTANDI® (enzalutamide) Works\"\n",
    "    [4]: https://www.xtandihcp.com/?utm_source=chatgpt.com \"XTANDI® (enzalutamide) for mCSPC, nmCRPC & mCRPC ...\"\n",
    "    [5]: https://www.ema.europa.eu/en/medicines/human/EPAR/xtandi?utm_source=chatgpt.com \"Xtandi | European Medicines Agency (EMA)\"\n",
    "    [6]: https://www.cancerresearchuk.org/about-cancer/treatment/drugs/enzalutamide?utm_source=chatgpt.com \"Enzalutamide | Cancer information\"\n",
    "    [7]: https://medlineplus.gov/druginfo/meds/a612033.html?utm_source=chatgpt.com \"Enzalutamide: MedlinePlus Drug Information\"\n",
    "\n",
    "    \"\"\"\n",
    ")"
   ]
  },
  {
   "cell_type": "code",
   "execution_count": 64,
   "id": "463d1b5e",
   "metadata": {},
   "outputs": [],
   "source": [
    "comparision_prompt = [\n",
    "    {\n",
    "        \"role\": \"system\",\n",
    "        \"content\": \"\"\"\n",
    "        Given two responses to the same search-driven user query—one generated by the OpenAI API using its web search tool, and another from ChatGPT's application interface with web search enabled—compare them along the following parameters:\n",
    "\n",
    "        - Factual accuracy and up-to-dateness of the information\n",
    "\n",
    "        - Depth and relevance of content\n",
    "\n",
    "        - Use and clarity of source citations and links\n",
    "\n",
    "        - Completeness of the response to the given user query\n",
    "\n",
    "        - Fluency, coherence, and overall readability\n",
    "\n",
    "        - Presence of hallucinations, fabrications, or missing details\n",
    "\n",
    "        - Responsiveness to requested web search context (real-world retrieval rather than training data)\n",
    "\n",
    "        Present a structured evaluation highlighting which response performs better for each parameter, and summarize if the API-generated response is suitable for use in generative engine optimization analysis. Use a table for per-parameter scores (e.g., “API”, “ChatGPT”, “Draw”) and include a qualitative summary explaining key differences and suitability.\n",
    "        \"\"\"\n",
    "    },\n",
    "    {\n",
    "        \"role\": \"user\",\n",
    "        \"content\": f\"\"\"\n",
    "        User Query: {search_queries[0]}\n",
    "        API Response: {ge_code_reponse}\n",
    "        ChatGPT Response: {chatgpt_response}\n",
    "        \"\"\"\n",
    "    }\n",
    "]"
   ]
  },
  {
   "cell_type": "code",
   "execution_count": 66,
   "id": "fe9438b1",
   "metadata": {},
   "outputs": [],
   "source": [
    "comparision = openai_llm.invoke(comparision_prompt)"
   ]
  },
  {
   "cell_type": "code",
   "execution_count": 69,
   "id": "34d4d0d6",
   "metadata": {},
   "outputs": [
    {
     "name": "stdout",
     "output_type": "stream",
     "text": [
      "==================================\u001b[1m Ai Message \u001b[0m==================================\n",
      "\n",
      "### Evaluation of Responses\n",
      "\n",
      "| Parameter                                                          | API Response                    | ChatGPT Response                  | Outcome            |\n",
      "|-------------------------------------------------------------------|---------------------------------|-----------------------------------|--------------------|\n",
      "| **Factual accuracy and up-to-dateness**                            | High accuracy, but lacks details on newer indications or studies. | High accuracy and up-to-date with additional notes on indications. | **Draw** |\n",
      "| **Depth and relevance of content**                                 | Covers main indications but lacks additional context. | Offers detailed insights into usage contexts. | **ChatGPT** |\n",
      "| **Use and clarity of source citations and links**                 | Provides citations, but fewer sources overall. | Extensive citing, clear links to relevant resources. | **ChatGPT** |\n",
      "| **Completeness of the response to the given user query**          | Addresses usage but less comprehensive on how it works. | Comprehensive, including usage and mechanisms. | **ChatGPT** |\n",
      "| **Fluency, coherence, and overall readability**                   | Fluent and clear.               | Well-structured and easy to follow. | **ChatGPT** |\n",
      "| **Presence of hallucinations, fabrications, or missing details**   | No hallucinations, but some details omitted. | No hallucinations, covers details comprehensively. | **ChatGPT** |\n",
      "| **Responsiveness to requested web search context**                | Fits the query well, but more generalized. | Explicit connection to recent and specific contexts. | **ChatGPT** |\n",
      "\n",
      "### Summary of Evaluation\n",
      "\n",
      "The response from ChatGPT outperforms the API response across several parameters, particularly in depth and relevance of content, clarity of citations, and completeness. While both responses are factually accurate, the ChatGPT response presents a broader view of XTANDI's applications and mechanisms of action. \n",
      "\n",
      "1. **Factual accuracy and up-to-dateness:** Both responses are accurate, but neither captures the latest trends in treatment or guidelines extensively. Thus, they are rated equally.\n",
      "\n",
      "2. **Depth and relevance of content:** ChatGPT's response offers more nuanced depth, explaining several contexts in which XTANDI might be used.\n",
      "\n",
      "3. **Use and clarity of source citations and links:** ChatGPT provides numerous and varied sources which help underline its claims, enhancing user trust.\n",
      "\n",
      "4. **Completeness of the response:** ChatGPT covers more facets of XTANDI, including additional therapeutic contexts that the API response lacks.\n",
      "\n",
      "5. **Fluency and readability:** ChatGPT's structured sections with headers lend themselves to easier navigation and better comprehension, making it preferable for readers who seek clarity.\n",
      "\n",
      "6. **Presence of hallucinations:** Both responses are factual in their information, but the API lacks a few details present in the ChatGPT response.\n",
      "\n",
      "7. **Responsiveness to requested web search context:** ChatGPT is more attentive to the query details concerning treatment application than the API.\n",
      "\n",
      "Overall, based on this evaluation, the API-generated response may be suitable for basic inquiries but lacks the depth and nuanced content that would be required for a comprehensive generative engine optimization analysis. Hence, for such requirements, ChatGPT's response is more advantageous.\n"
     ]
    }
   ],
   "source": [
    "comparision.pretty_print()"
   ]
  },
  {
   "cell_type": "markdown",
   "id": "ed7f1463",
   "metadata": {},
   "source": [
    "### Measuring API Response on GEO Metrices"
   ]
  },
  {
   "cell_type": "code",
   "execution_count": 70,
   "id": "c38bf162",
   "metadata": {},
   "outputs": [],
   "source": [
    "measure_prompt = (\n",
    "    \"\"\"\n",
    "    You are an advanced language model specialized in evaluating generated content using comprehensive GEO (Generative Engine Optimization) metrics and multi-factor content optimization. \n",
    "\n",
    "    Given a piece of text, assess it on the following parameters:\n",
    "\n",
    "    1. Citation Prominence: How clearly and effectively citations and sources are presented and highlighted.\n",
    "    2. Relevance and Influence of Website Content: How well the text aligns with, and leverages, authoritative and impactful content from relevant websites.\n",
    "    3. Uniqueness, Click Probability, and Diversity: The presence of unique words, diverse ideas, and likelihood to engage users to click and read further.\n",
    "    4. Fluency Optimization: The readability, natural flow, and understanding ease of the text.\n",
    "    5. Authoritative & Technical Language: The use of trust-building, domain-specific expertise and technical terms appropriately.\n",
    "    6. Quotations & Statistics: Effective integration of real-world facts, numerical data, and quotations to substantiate claims.\n",
    "    7. Position-Adjusted Word Count: Weight important content appearing earlier in the text more, to reflect prominence.\n",
    "\n",
    "    Provide a detailed, multi-dimensional score or qualitative commentary for each parameter with explanations. Suggest specific improvements if any, to enhance overall generative content quality based on these GEO strategies.\n",
    "    \"\"\"\n",
    ")\n",
    "\n",
    "measure_input = [\n",
    "    {\n",
    "        \"role\": \"system\",\n",
    "        \"content\": measure_prompt\n",
    "    },\n",
    "    {\n",
    "        \"role\": \"user\",\n",
    "        \"content\": f\"\"\"\n",
    "        User Query: {search_queries[0]}\n",
    "        API Response: {ge_code_reponse}\n",
    "        Target Website Homepage: {page_text}\n",
    "        \"\"\"\n",
    "    }\n",
    "]"
   ]
  },
  {
   "cell_type": "code",
   "execution_count": 73,
   "id": "94bf8999",
   "metadata": {},
   "outputs": [],
   "source": [
    "ge_metrics_measurement = openai_llm.invoke(measure_input)"
   ]
  },
  {
   "cell_type": "code",
   "execution_count": 75,
   "id": "aeddf2a1",
   "metadata": {},
   "outputs": [
    {
     "name": "stdout",
     "output_type": "stream",
     "text": [
      "==================================\u001b[1m Ai Message \u001b[0m==================================\n",
      "\n",
      "### Assessment of API Response According to GEO Metrics:\n",
      "\n",
      "1. **Citation Prominence**: \n",
      "   - **Score: 8/10**\n",
      "   - The citations are effectively presented, providing direct links to valuable sources like the official XTANDI website and the European Medicines Agency. This enhances the credibility of the information. Still, bolding or italicizing the citations would further enhance their visibility.\n",
      "\n",
      "2. **Relevance and Influence of Website Content**: \n",
      "   - **Score: 9/10**\n",
      "   - The response aligns well with authoritative content, referencing credible medical sources. The inclusion of information from the official site and regulatory body underlines its relevance. Incorporating content from additional high-traffic health websites like Mayo Clinic or WebMD could enhance this aspect.\n",
      "\n",
      "3. **Uniqueness, Click Probability, and Diversity**: \n",
      "   - **Score: 7/10**\n",
      "   - The content presents diverse facets of XTANDI usage, which captures reader interest. However, the language used is somewhat standard. Adding unique insights or lesser-known facts about patient experiences or ongoing clinical trials could compel more clicks.\n",
      "\n",
      "4. **Fluency Optimization**: \n",
      "   - **Score: 8/10**\n",
      "   - The text flows well with a logical structure. It contains clear headings for different conditions treated with XTANDI, making it easy to navigate. Phrasing could be simplified in some areas to enhance understanding further.\n",
      "\n",
      "5. **Authoritative & Technical Language**: \n",
      "   - **Score: 8/10**\n",
      "   - The use of technical terms relevant to prostate cancer is appropriate, enhancing credibility. However, consider integrating more layman's terms or explanatory notes, especially for a general audience, while maintaining a degree of professionalism.\n",
      "\n",
      "6. **Quotations & Statistics**: \n",
      "   - **Score: 6/10**\n",
      "   - While the text mentions serious side effects and specific usage indications, it lacks quoted statistics or testimonials from studies that could back the claims. Incorporating specific clinical trial results or expert opinions could bolster the text's authority further.\n",
      "\n",
      "7. **Position-Adjusted Word Count**: \n",
      "   - **Score: 9/10**\n",
      "   - The most critical information, such as usage indications and action, is presented upfront, ensuring that key points are prominent. However, consider merging some subsections for brevity without losing detailed information, making it even more digestible for readers.\n",
      "\n",
      "### Overall Score: 7.7/10\n",
      "\n",
      "### Recommendations for Improvement:\n",
      "- **Enhance Citation Visibility**: Use visual tools like bolding for citations so they are immediately noticeable.\n",
      "- **Diversify Content**: Introduce unique statistics or testimonials related to XTANDI's effectiveness or patient experiences.\n",
      "- **Include Quoted Data**: Integrate relevant statistics from clinical trials to provide a quantitative foundation for the claims.\n",
      "- **Improve Readability**: Simplify complex medical jargon where appropriate to cater to a broader audience.\n",
      "- **Add Cross-References**: Suggest further reading or related medications, thereby increasing the resourcefulness of the text.\n",
      "\n",
      "By implementing these strategies, the content would not only improve in quality but also in engagement, leading to a more authoritative presence in search results.\n"
     ]
    }
   ],
   "source": [
    "ge_metrics_measurement.pretty_print()"
   ]
  }
 ],
 "metadata": {
  "kernelspec": {
   "display_name": "geo (3.12.3)",
   "language": "python",
   "name": "python3"
  },
  "language_info": {
   "codemirror_mode": {
    "name": "ipython",
    "version": 3
   },
   "file_extension": ".py",
   "mimetype": "text/x-python",
   "name": "python",
   "nbconvert_exporter": "python",
   "pygments_lexer": "ipython3",
   "version": "3.12.3"
  }
 },
 "nbformat": 4,
 "nbformat_minor": 5
}
