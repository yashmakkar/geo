{
 "cells": [
  {
   "cell_type": "code",
   "execution_count": 1,
   "id": "6fef03a0",
   "metadata": {},
   "outputs": [
    {
     "name": "stdout",
     "output_type": "stream",
     "text": [
      "/Users/yashmakkar/Documents/Project/GEO/src/notebooks\n",
      "['/Library/Frameworks/Python.framework/Versions/3.12/lib/python312.zip', '/Library/Frameworks/Python.framework/Versions/3.12/lib/python3.12', '/Library/Frameworks/Python.framework/Versions/3.12/lib/python3.12/lib-dynload', '', '/Users/yashmakkar/Documents/Project/GEO/.venv/lib/python3.12/site-packages', '/Users/yashmakkar/Documents/Project/GEO']\n"
     ]
    }
   ],
   "source": [
    "import os\n",
    "print(os.getcwd())\n",
    "\n",
    "import sys\n",
    "path = \"/\".join(os.getcwd().split(\"/\")[:-2])\n",
    "if path not in sys.path:\n",
    "    sys.path.append(path)\n",
    "print(sys.path)"
   ]
  },
  {
   "cell_type": "code",
   "execution_count": 13,
   "id": "671dd7a9",
   "metadata": {},
   "outputs": [],
   "source": [
    "from langchain.chat_models import init_chat_model\n",
    "from src.utils.config import config\n",
    "import requests\n",
    "from bs4 import BeautifulSoup"
   ]
  },
  {
   "cell_type": "code",
   "execution_count": 6,
   "id": "58cc4b1c",
   "metadata": {},
   "outputs": [],
   "source": [
    "openai_llm = init_chat_model(model=\"openai:gpt-4o-mini\", api_key=config.openai_api_key)\n",
    "google_llm = init_chat_model(\"gemini-2.5-flash-preview-05-20\", temperature = 0, model_provider=\"google_genai\", api_key=config.google_api_key)"
   ]
  },
  {
   "cell_type": "code",
   "execution_count": 9,
   "id": "3aa7fdb5",
   "metadata": {},
   "outputs": [],
   "source": [
    "url = \"https://www.xtandi.com\"\n",
    "headers = {\n",
    "    \"User-Agent\": \"Mozilla/5.0 (Macintosh; Intel Mac OS X 10_15_7) AppleWebKit/605.1.15 (KHTML, like Gecko) Version/18.6 Safari/605.1.15\",\n",
    "}\n",
    "\n",
    "response = requests.get(url=url, headers=headers)"
   ]
  },
  {
   "cell_type": "code",
   "execution_count": 14,
   "id": "b203f93a",
   "metadata": {},
   "outputs": [],
   "source": [
    "page_content = BeautifulSoup(response.content, \"html.parser\")\n"
   ]
  },
  {
   "cell_type": "code",
   "execution_count": 21,
   "id": "a1821ea2",
   "metadata": {},
   "outputs": [],
   "source": [
    "page_text = []\n",
    "for line in page_content.text.split(\"\\n\"):\n",
    "    if len(line) > 0:\n",
    "        page_text.append(line)\n",
    "\n",
    "page_text = \"\\n\".join(page_text)"
   ]
  },
  {
   "cell_type": "code",
   "execution_count": 27,
   "id": "76d53c37",
   "metadata": {},
   "outputs": [],
   "source": [
    "query_generation_prompt = f\"\"\"Given the following website content, generate a diverse set of user queries that humans might type into a search engine to find information from this site. Your queries should include:\n",
    "\n",
    "- Simple, straightforward questions (e.g., factual lookups, one-step queries)\n",
    "- Complex, multi-part or exploratory questions that require deeper reasoning or synthesis\n",
    "- Ensure that the queries are phrased naturally, just as a typical human user would search online.\n",
    "\n",
    "Output a list of search queries relevant to the content above, clearly showing both normal and complex examples.\"\"\"\n",
    "\n",
    "query_gen_input = [\n",
    "    {\n",
    "        \"role\": \"system\",\n",
    "        \"content\": query_generation_prompt\n",
    "    },\n",
    "    {\n",
    "        \"role\": \"user\",\n",
    "        \"content\": page_text\n",
    "    }\n",
    "]"
   ]
  },
  {
   "cell_type": "code",
   "execution_count": 28,
   "id": "d168defd",
   "metadata": {},
   "outputs": [
    {
     "data": {
      "text/plain": [
       "[{'role': 'system',\n",
       "  'content': 'Given the following website content, generate a diverse set of user queries that humans might type into a search engine to find information from this site. Your queries should include:\\n\\n- Simple, straightforward questions (e.g., factual lookups, one-step queries)\\n- Complex, multi-part or exploratory questions that require deeper reasoning or synthesis\\n- Ensure that the queries are phrased naturally, just as a typical human user would search online.\\n\\nOutput a list of search queries relevant to the content above, clearly showing both normal and complex examples.'},\n",
       " {'role': 'user',\n",
       "  'content': 'XTANDI® (enzalutamide) | Advanced Prostate Cancer Treatment\\nYou are now leaving XTANDI.com\\nPlease verify that you are a U.S. Healthcare Professional.\\nThis information is intended for U.S. Healthcare Professionals only.\\nAre you a U.S. Healthcare Professional?\\nNo\\nYes\\nYou are now leaving XTANDI.com\\nThe website you are about to visit is not owned or controlled by Astellas or Pfizer. Astellas and Pfizer are not responsible for the information or services on this site.\\nCancel\\nContinue\\nPrescribing Information\\nPatient Information\\nXTANDI (enzalutamide) is a prescription medicine used to treat men with prostate cancer that:\\nno longer responds to a hormone therapy or surgical treatment to lower testosterone OR\\nhas spread to other parts of the body and responds to a hormone therapy or surgical treatment to lower testosterone OR\\nhas not spread to other parts of the body and responds to a hormone therapy or surgical treatment to lower testosterone, and who are at high risk of cancer spreading to other parts of the body\\nIt is not known if XTANDI is safe and effective in females or children.\\nFor Access Support call 1-855-898-2634\\nAbout XTANDI\\nIcon: Clinical results\\nClinical results\\nIcon: Side Effects\\nPossible side effects\\nHow XTANDI works\\nDifferent types of prostate cancer\\nWhen to ask your doctor about XTANDI\\nFor Access Support call 1-855-898-2634\\nStarting XTANDI\\nIcon: Getting XTANDI\\nGetting XTANDI\\nIcon: Taking XTANDI\\nTaking XTANDI\\nFor Access Support call 1-855-898-2634\\nSavings & Support\\nPatient Stories & Resources\\nIcon: Patient Stories\\nReal patient stories\\nIcon: Resources\\nResource hub\\nDoctor discussion guide\\nClinical glossary\\nFAQs\\nTips for staying on track\\nSign up for support\\nDownloadable resources\\nFor Access Support call 1-855-898-2634\\n\\r\\n                Important Safety Information\\r\\n            \\n\\r\\n                Prescribing Information\\r\\n            \\n\\r\\n\\r\\n                                Full Prescribing Information (English)\\r\\n                            \\n\\r\\n\\r\\n                                Full Prescribing Information (En Español)\\r\\n                            \\nPatient Information\\n\\r\\n                Indications\\r\\n            \\nFor Healthcare Professionals\\n#1 prescribed androgen receptor inhibitor (ARI)*\\nSee clinical results\\n*A class of prostate cancer drugs that decreases how often androgens like testosterone connect with an androgen receptor.\\nSource: IQVIA market data of TRx volume for CRPC, mCSPC, and nmCSPC (with high risk of cancer spreading) for all branded prostate cancer medications, Jan-Nov 2024\\nTHIS INFORMATION DOES NOT IMPLY SAFETY OR EFFICACY OF ANY PRODUCT. NO COMPARISONS SHOULD BE MADE.\\nSavings & support\\nFind out more information about financial support options that may help eligible patients.\\nSubject to eligibility. Void where prohibited by law.\\nLearn more\\nReal patient stories\\nGain perspective into the lives of men living with advanced prostate cancer and taking XTANDI.\\nConfronting Returning Prostate Cancer\\nWatch story\\nThe Power of Support\\nWatch story\\nJourney to Access\\nWatch story\\nWatch their stories\\nShare your story\\nYou have the chance to make a difference and inspire others. Sharing your XTANDI story can have a positive impact on men living with advanced prostate cancer. To learn more about joining our Ambassador network, give us a call or email today.\\nCall us at 844-482-6810\\nEmail us at amalia@mypatientstory.com\\nSelect Safety Information\\nXTANDI may cause serious side effects including seizure.\\r\\n            If you take XTANDI, you may be at risk of having a seizure.\\r\\n            Avoid activities where a sudden loss of consciousness could seriously harm you or someone else.\\r\\n            Tell your doctor right away if you lose consciousness or have a seizure.\\r\\n            Learn more\\nSign up for support emails and resources\\nWe’re here for you with tools, tips, information, and support.\\nSign up\\nFor more information on Financial Support, please call 1-855-898-2634\\nCall now\\nImportant Safety Information & Use\\nFind out more\\nCollapse\\nWhat should I tell my doctor before taking XTANDI?\\nTell your doctor about all your medical conditions, including if you:\\nHave a history of seizures, brain injury, stroke, or brain tumors.\\nHave a history of heart disease, have high blood pressure, or have abnormal amounts of fat or cholesterol in your blood (dyslipidemia).\\nAre pregnant or plan to become pregnant. XTANDI can cause harm to your unborn baby and loss of pregnancy (miscarriage).\\nHave a partner who is pregnant or may become pregnant.\\r\\n                    \\nMales who have female partners who are able to become pregnant should use effective birth control (contraception) during treatment with XTANDI and for 3 months after the last dose.\\nMales must use a condom during sex with a pregnant female.\\nAre breastfeeding or plan to breastfeed. It is not known if XTANDI passes into your breast milk.\\nTake other medicines. XTANDI may affect the way other medicines work, and other medicines may affect how XTANDI works. These include prescription and over-the-counter medicines, vitamins, and herbal supplements. Do not start or stop any medicine without talking to your doctor.\\nHow should I take XTANDI?\\nTake XTANDI exactly as your doctor tells you. Take your prescribed dose once a day, at the same time each day. XTANDI can be taken with or without food. Swallow XTANDI capsules or tablets whole with enough water to make sure that you can swallow all of the medicine successfully. Do not chew, dissolve, or open the capsules. Do not cut, crush or chew the tablets. Your doctor may change your dose if needed. Your doctor may also change your pill size or stop treatment if you have swallowing problems.\\nDo not change or stop taking your prescribed dose of XTANDI without talking with your doctor first.\\nIf you are receiving gonadotropin-releasing hormone (GnRH) therapy, you should continue with this treatment while taking XTANDI unless you have had surgery to lower the amount of testosterone in your body (surgical castration).\\nIf you miss a dose of XTANDI: Take your prescribed dose as soon as you remember that day. If you miss your daily dose, take your prescribed dose at your regular time the next day. Do not take more than your prescribed dose of XTANDI each day.\\nIf you take too much XTANDI: Call your doctor or go to the nearest emergency room right away. You may have an increased risk of seizure if you take too much XTANDI.\\nWhat are the possible side effects of XTANDI?\\nXTANDI may cause serious side effects including:\\nSeizure. If you take XTANDI, you may be at risk of having a seizure. Avoid activities where a sudden loss of consciousness could seriously harm you or someone else. Tell your doctor right away if you lose consciousness or have a seizure.\\nPosterior Reversible Encephalopathy Syndrome (PRES). If you take XTANDI you may be at risk of developing a condition involving the brain called PRES. Tell your doctor right away if you have a seizure or quickly worsening symptoms such as headache, decreased alertness, confusion, reduced eyesight, blurred vision or other visual problems. Your doctor will do a test to check for PRES.\\nAllergic Reactions. Allergic reactions have happened in people who take XTANDI. Stop taking XTANDI and get medical help right away if you develop swelling of the face, tongue, lip or throat.\\nHeart Disease. Blockage of the arteries in the heart (ischemic heart disease) that can lead to death has happened in some people during treatment with XTANDI. Your doctor will monitor you for signs and symptoms of heart problems during your treatment. Call your doctor or go to the emergency room right away if you get chest pain or discomfort at rest or with activity or shortness of breath during your treatment with XTANDI.\\nFalls and Bone Fractures. XTANDI treatment may increase your risk for falls and bone fractures. Falls were not caused by loss of consciousness or seizures. Your doctor will monitor your risks for falls and bone fractures during treatment with XTANDI.\\nSwallowing Problems or Choking. Severe swallowing problems or choking, including life-threatening problems or death can happen in people during treatment with XTANDI, because of the size of the XTANDI capsules and tablets. Swallow each XTANDI capsule or tablet whole with enough water to make sure that you can swallow all of the medicine successfully.\\nYour doctor will stop treatment with XTANDI if you have serious side effects.\\nThe most common side effects of XTANDI include:\\nMuscle and joint pain\\nFeeling more tired than usual\\nHot flashes\\nConstipation\\nDecreased appetite\\nDiarrhea\\nHigh blood pressure\\nBleeding problems\\nFalls\\nBone fractures\\nHeadache\\nXTANDI may cause fertility problems in males, which may affect the ability to father children. Talk to your doctor if you have concerns about fertility.\\nThese are not all the possible side effects of XTANDI. For more information, talk to your doctor or pharmacist.\\nCall your doctor for medical advice about side effects. You may report side effects to the FDA at 1-800-FDA-1088 or www.fda.gov/medwatch.\\nFor further information, please talk to your doctor and click here for Patient Information and Full Prescribing Information for XTANDI.\\nWhat is XTANDI?\\nXTANDI is a prescription medicine used to treat men with prostate cancer that:\\nno longer responds to a hormone therapy or surgical treatment to lower testosteroneOR\\nhas spread to other parts of the body and responds to a hormone therapy or surgical treatment to lower testosteroneOR\\nhas not spread to other parts of the body and responds to a hormone therapy or surgical treatment to lower testosterone, and who are at high risk of cancer spreading to other parts of the body.\\nIt is not known if XTANDI is safe and effective in females or children.\\nIcon: Doctor Discussion Guide\\nDoctor discussion guide\\nA helpful guide for having a productive conversation with your doctor.\\nIcon: Sign up for support emails and resources\\nSign up for support\\nEducational materials delivered right to your inbox.\\nIcon: Clinical results\\nClinical results\\nLearn more about how XTANDI treats 4 types of advanced prostate cancer.\\nIcon: Financial support\\nFinancial support\\nSee if you’re eligible for financial assistance.\\nThis site is intended for U.S. residents onlyFor information about Access Support call 1-855-898-2634\\nCall your doctor for medical advice about side effects. You may report side effects to the FDA at 1-800-FDA-1088 or www.fda.gov/medwatch \\nAll trademarks are the property of their respective owners.\\n© 2025 Astellas Pharma US, Inc. and Pfizer Inc. All Rights Reserved.\\nMAT-US-XTD-2024-01762 02/25, MAT-US-XTD-2025-00190 05/25\\nLegal Notice\\nPrivacy Statement\\nPrivacy Policy\\nContact Us\\nSitemap'}]"
      ]
     },
     "execution_count": 28,
     "metadata": {},
     "output_type": "execute_result"
    }
   ],
   "source": [
    "query_gen_input"
   ]
  },
  {
   "cell_type": "code",
   "execution_count": 30,
   "id": "2d21ef56",
   "metadata": {},
   "outputs": [],
   "source": [
    "queries = openai_llm.invoke(query_gen_input)"
   ]
  },
  {
   "cell_type": "code",
   "execution_count": 37,
   "id": "44233bc5",
   "metadata": {},
   "outputs": [
    {
     "data": {
      "text/plain": [
       "AIMessage(content='1. What is XTANDI used for?\\n2. How does XTANDI work in treating prostate cancer?\\n3. What are the possible side effects of XTANDI?\\n4. Can women take XTANDI?\\n5. What should I tell my doctor before starting XTANDI?\\n6. How do I take XTANDI?\\n7. Where can I find the prescribing information for XTANDI?\\n8. What should I do if I miss a dose of XTANDI?\\n9. Are there any financial support options available for patients taking XTANDI?\\n10. How can I sign up for support emails from XTANDI?\\n11. What types of prostate cancer can be treated with XTANDI?\\n12. How commonly is XTANDI prescribed compared to other prostate cancer treatments?\\n13. What resources are available for patients taking XTANDI?\\n14. Are there any restrictions on who can receive information about XTANDI?\\n15. What are the risks of seizures while taking XTANDI?\\n16. If I have a history of heart disease, is it safe to take XTANDI?\\n17. How do the side effects of XTANDI compare to those of other prostate cancer medications?\\n18. What should I do if I experience severe side effects while taking XTANDI?\\n19. How can I share my patient story related to XTANDI for the Ambassador network?\\n20. Can I take XTANDI with other medications, and what should I be cautious about?\\n21. Are there any dietary restrictions while taking XTANDI, especially concerning testosterone therapy?\\n22. What is the role of the healthcare professional in managing my treatment with XTANDI?\\n23. In what situations should I contact my doctor while on XTANDI?\\n24. How effective is XTANDI for men whose prostate cancer has spread to other organs?\\n25. What types of clinical results are available for XTANDI?', additional_kwargs={'refusal': None}, response_metadata={'token_usage': {'completion_tokens': 387, 'prompt_tokens': 2403, 'total_tokens': 2790, 'completion_tokens_details': {'accepted_prediction_tokens': 0, 'audio_tokens': 0, 'reasoning_tokens': 0, 'rejected_prediction_tokens': 0}, 'prompt_tokens_details': {'audio_tokens': 0, 'cached_tokens': 0}}, 'model_name': 'gpt-4o-mini-2024-07-18', 'system_fingerprint': 'fp_560af6e559', 'id': 'chatcmpl-CFhgOcAAlxeiVDleMmYInhI1klBmo', 'service_tier': 'default', 'finish_reason': 'stop', 'logprobs': None}, id='run--d867110d-823b-4c26-b2a3-a9fc5116b401-0', usage_metadata={'input_tokens': 2403, 'output_tokens': 387, 'total_tokens': 2790, 'input_token_details': {'audio': 0, 'cache_read': 0}, 'output_token_details': {'audio': 0, 'reasoning': 0}})"
      ]
     },
     "execution_count": 37,
     "metadata": {},
     "output_type": "execute_result"
    }
   ],
   "source": [
    "queries"
   ]
  },
  {
   "cell_type": "code",
   "execution_count": 38,
   "id": "7b45504c",
   "metadata": {},
   "outputs": [
    {
     "data": {
      "text/plain": [
       "['What is XTANDI used for?',\n",
       " 'How does XTANDI work in treating prostate cancer?',\n",
       " 'What are the possible side effects of XTANDI?',\n",
       " 'Can women take XTANDI?',\n",
       " 'What should I tell my doctor before starting XTANDI?',\n",
       " 'How do I take XTANDI?',\n",
       " 'Where can I find the prescribing information for XTANDI?',\n",
       " 'What should I do if I miss a dose of XTANDI?',\n",
       " 'Are there any financial support options available for patients taking XTANDI?',\n",
       " 'How can I sign up for support emails from XTANDI?',\n",
       " 'What types of prostate cancer can be treated with XTANDI?',\n",
       " 'How commonly is XTANDI prescribed compared to other prostate cancer treatments?',\n",
       " 'What resources are available for patients taking XTANDI?',\n",
       " 'Are there any restrictions on who can receive information about XTANDI?',\n",
       " 'What are the risks of seizures while taking XTANDI?',\n",
       " 'If I have a history of heart disease, is it safe to take XTANDI?',\n",
       " 'How do the side effects of XTANDI compare to those of other prostate cancer medications?',\n",
       " 'What should I do if I experience severe side effects while taking XTANDI?',\n",
       " 'How can I share my patient story related to XTANDI for the Ambassador network?',\n",
       " 'Can I take XTANDI with other medications, and what should I be cautious about?',\n",
       " 'Are there any dietary restrictions while taking XTANDI, especially concerning testosterone therapy?',\n",
       " 'What is the role of the healthcare professional in managing my treatment with XTANDI?',\n",
       " 'In what situations should I contact my doctor while on XTANDI?',\n",
       " 'How effective is XTANDI for men whose prostate cancer has spread to other organs?',\n",
       " 'What types of clinical results are available for XTANDI?']"
      ]
     },
     "execution_count": 38,
     "metadata": {},
     "output_type": "execute_result"
    }
   ],
   "source": [
    "search_queries = queries.content.split(\"\\n\")\n",
    "search_queries = [query.split(\".\")[1].strip() for query in search_queries]           # To remove numerals from AI response.\n",
    "search_queries"
   ]
  },
  {
   "cell_type": "code",
   "execution_count": 39,
   "id": "f70d6ed8",
   "metadata": {},
   "outputs": [
    {
     "data": {
      "text/plain": [
       "'What is XTANDI used for?'"
      ]
     },
     "execution_count": 39,
     "metadata": {},
     "output_type": "execute_result"
    }
   ],
   "source": [
    "search_queries[0]"
   ]
  },
  {
   "cell_type": "code",
   "execution_count": 45,
   "id": "37ddf0c0",
   "metadata": {},
   "outputs": [
    {
     "data": {
      "text/plain": [
       "[{'role': 'system',\n",
       "  'content': \"\\n        You are ChatGPT, an advanced AI language model with web search capabilities. When a user's question requires recent or factual information, perform a search using the web tool, summarize the findings, and respond conversationally. Always include helpful citations and direct links to sources in your answer. Attribute information clearly, integrating context from both the web and the ongoing chat. Respond naturally and accurately, supporting your statements with retrieved evidence and making references easy to follow.\\n        \"},\n",
       " {'role': 'user', 'content': 'What is XTANDI used for?'}]"
      ]
     },
     "execution_count": 45,
     "metadata": {},
     "output_type": "execute_result"
    }
   ],
   "source": [
    "ge_prompt = [\n",
    "    {\n",
    "        \"role\": \"system\",\n",
    "        \"content\": \"\"\"\n",
    "        You are ChatGPT, an advanced AI language model with web search capabilities. When a user's question requires recent or factual information, perform a search using the web tool, summarize the findings, and respond conversationally. Always include helpful citations and direct links to sources in your answer. Attribute information clearly, integrating context from both the web and the ongoing chat. Respond naturally and accurately, supporting your statements with retrieved evidence and making references easy to follow.\n",
    "        \"\"\"\n",
    "    },\n",
    "    {\n",
    "        \"role\": \"user\",\n",
    "        \"content\": search_queries[0]\n",
    "    }\n",
    "]\n",
    "\n",
    "ge_prompt"
   ]
  },
  {
   "cell_type": "code",
   "execution_count": 49,
   "id": "c94f4935",
   "metadata": {},
   "outputs": [
    {
     "name": "stdout",
     "output_type": "stream",
     "text": [
      "XTANDI (enzalutamide) is a medication primarily used to treat various forms of prostate cancer. It functions as an androgen receptor inhibitor, blocking the effects of male hormones like testosterone, which can stimulate the growth of prostate cancer cells. ([xtandi.com](https://www.xtandi.com/how-xtandi-works?utm_source=openai))\n",
      "\n",
      "Specifically, XTANDI is indicated for:\n",
      "\n",
      "- **Metastatic Castration-Sensitive Prostate Cancer (mCSPC):** Prostate cancer that has spread to other parts of the body but still responds to treatments that lower testosterone levels. ([ema.europa.eu](https://www.ema.europa.eu/en/medicines/human/EPAR/xtandi?utm_source=openai))\n",
      "\n",
      "- **Non-Metastatic Castration-Resistant Prostate Cancer (nmCRPC):** Prostate cancer that has not spread to other parts of the body but continues to grow despite treatments that lower testosterone levels. ([ema.europa.eu](https://www.ema.europa.eu/en/medicines/human/EPAR/xtandi?utm_source=openai))\n",
      "\n",
      "- **Metastatic Castration-Resistant Prostate Cancer (mCRPC):** Advanced prostate cancer that has spread to other parts of the body and no longer responds to treatments designed to lower testosterone levels. ([ema.europa.eu](https://www.ema.europa.eu/en/medicines/human/EPAR/xtandi?utm_source=openai))\n",
      "\n",
      "By inhibiting androgen receptors, XTANDI helps slow the growth and spread of prostate cancer cells. ([xtandi.com](https://www.xtandi.com/how-xtandi-works?utm_source=openai))\n",
      "\n",
      "It's important to note that XTANDI is not approved for use in women or children. Additionally, it can cause serious side effects, including seizures and heart-related issues. Patients should discuss potential risks and benefits with their healthcare provider before starting treatment. ([xtandi.com](https://www.xtandi.com/side-effects?utm_source=openai)) \n"
     ]
    }
   ],
   "source": [
    "from openai import OpenAI\n",
    "client = OpenAI()\n",
    "\n",
    "response = client.responses.create(\n",
    "    model=\"gpt-4o-mini\",\n",
    "    tools=[{\"type\": \"web_search\"}],\n",
    "    input=ge_prompt,\n",
    "    tool_choice=\"required\"\n",
    ")\n",
    "\n",
    "print(response.output_text)"
   ]
  },
  {
   "cell_type": "code",
   "execution_count": 60,
   "id": "21e858e9",
   "metadata": {},
   "outputs": [
    {
     "data": {
      "text/plain": [
       "[AnnotationURLCitation(end_index=331, start_index=258, title='How XTANDI® (enzalutamide) Works', type='url_citation', url='https://www.xtandi.com/how-xtandi-works?utm_source=openai'),\n",
       " AnnotationURLCitation(end_index=653, start_index=560, title='Xtandi | European Medicines Agency (EMA)', type='url_citation', url='https://www.ema.europa.eu/en/medicines/human/EPAR/xtandi?utm_source=openai'),\n",
       " AnnotationURLCitation(end_index=952, start_index=859, title='Xtandi | European Medicines Agency (EMA)', type='url_citation', url='https://www.ema.europa.eu/en/medicines/human/EPAR/xtandi?utm_source=openai'),\n",
       " AnnotationURLCitation(end_index=1254, start_index=1161, title='Xtandi | European Medicines Agency (EMA)', type='url_citation', url='https://www.ema.europa.eu/en/medicines/human/EPAR/xtandi?utm_source=openai'),\n",
       " AnnotationURLCitation(end_index=1429, start_index=1356, title='How XTANDI® (enzalutamide) Works', type='url_citation', url='https://www.xtandi.com/how-xtandi-works?utm_source=openai'),\n",
       " AnnotationURLCitation(end_index=1786, start_index=1717, title='Side Effects | XTANDI® (enzalutamide)', type='url_citation', url='https://www.xtandi.com/side-effects?utm_source=openai')]"
      ]
     },
     "execution_count": 60,
     "metadata": {},
     "output_type": "execute_result"
    }
   ],
   "source": [
    "citations = response.output[1].content[0].annotations\n",
    "citations"
   ]
  },
  {
   "cell_type": "code",
   "execution_count": null,
   "id": "db4d57be",
   "metadata": {},
   "outputs": [],
   "source": []
  }
 ],
 "metadata": {
  "kernelspec": {
   "display_name": "geo (3.12.3)",
   "language": "python",
   "name": "python3"
  },
  "language_info": {
   "codemirror_mode": {
    "name": "ipython",
    "version": 3
   },
   "file_extension": ".py",
   "mimetype": "text/x-python",
   "name": "python",
   "nbconvert_exporter": "python",
   "pygments_lexer": "ipython3",
   "version": "3.12.3"
  }
 },
 "nbformat": 4,
 "nbformat_minor": 5
}
